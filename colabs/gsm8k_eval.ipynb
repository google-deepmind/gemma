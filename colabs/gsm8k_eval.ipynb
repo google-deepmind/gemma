{
  "cells": [
    {
      "cell_type": "markdown",
      "metadata": {
        "id": "J72yaKjJEXip"
      },
      "source": [
        "Copyright 2024 DeepMind Technologies Limited.\n",
        "\n",
        "Licensed under the Apache License, Version 2.0 (the \"License\"); you may not use this file except in compliance with the License. You may obtain a copy of the License at\n",
        "\n",
        "http://www.apache.org/licenses/LICENSE-2.0\n",
        "\n",
        "Unless required by applicable law or agreed to in writing, software distributed under the License is distributed on an \"AS IS\" BASIS, WITHOUT WARRANTIES OR CONDITIONS OF ANY KIND, either express or implied. See the License for the specific language governing permissions and limitations under the License.\n",
        "\n",
        "---"
      ]
    },
    {
      "cell_type": "markdown",
      "metadata": {
        "id": "kRShUtLfEXiq"
      },
      "source": [
        "# GSM8K evaluation using Gemma\n",
        "\n",
        "The [GSM8K dataset](https://arxiv.org/pdf/2110.14168.pdf) presents a good evaluation challenge for small models for several reasons:\n",
        "\n",
        "1. **Conceptual Simplicity:** While the problems in GSM8K require multi-step reasoning, they primarily involve elementary mathematical concepts and basic arithmetic operations. This makes the dataset accessible to smaller models that may not have the capacity to handle complex mathematical reasoning.\n",
        "\n",
        "2. **Linguistic Diversity:** GSM8K emphasizes linguistic diversity, ensuring that problems are not simply variations of the same template. This forces models to generalize their understanding of language and mathematical concepts, rather than relying on superficial pattern matching.\n",
        "\n",
        "3. **Moderate Difficulty:** The problems in GSM8K are challenging enough to test the limits of small models without being completely intractable. This allows for meaningful evaluation and comparison of different models and methods within a reasonable difficulty range.\n",
        "\n",
        "4. **Natural Language Solutions:** GSM8K provides solutions in natural language, encouraging models to develop verbal analytical skills and produce human-interpretable reasoning steps. This is particularly relevant for smaller models that may struggle with purely symbolic or equation-based solutions.\n",
        "\n",
        "By focusing on grade-school math concepts and emphasizing linguistic diversity, GSM8K provides a valuable benchmark for evaluating the informal reasoning abilities of smaller language models and identifying areas for improvement.\n",
        "\n",
        "The 2B Gemma checkpoint achieves a score of 19%, which is a higher result than obtained using [much larger competing checkpoints](https://paperswithcode.com/sota/arithmetic-reasoning-on-gsm8k)."
      ]
    },
    {
      "cell_type": "markdown",
      "metadata": {
        "id": "GMv_56WyEXiq"
      },
      "source": [
        "## Installation"
      ]
    },
    {
      "cell_type": "code",
      "execution_count": 0,
      "metadata": {
        "id": "pIF7Tr8yEXiq"
      },
      "outputs": [],
      "source": [
        "! pip install git+https://github.com/google-deepmind/gemma.git\n",
        "! pip install --user kaggle\n",
        "! pip install datasets"
      ]
    },
    {
      "cell_type": "markdown",
      "metadata": {
        "id": "ucx1AgltaZRF"
      },
      "source": [
        "## Downloading the checkpoint\n",
        "\n",
        "\"To use Gemma's checkpoints, you'll need a Kaggle account and API key. Here's how to get them:\n",
        "\n",
        "1. Visit https://www.kaggle.com/ and create an account.\n",
        "2. Go to your account settings, then the 'API' section.\n",
        "3. Click 'Create new token' to download your key.\n",
        "\n",
        "Then run the cell below."
      ]
    },
    {
      "cell_type": "code",
      "execution_count": 0,
      "metadata": {
        "id": "qai-J2Dgaac0"
      },
      "outputs": [],
      "source": [
        "import kagglehub\n",
        "kagglehub.login()"
      ]
    },
    {
      "cell_type": "markdown",
      "metadata": {
        "id": "rSv5uG5_acQk"
      },
      "source": [
        "If everything went well, you should see:\n",
        "```\n",
        "Kaggle credentials set.\n",
        "Kaggle credentials successfully validated.\n",
        "```\n",
        "\n",
        "Now select and download the checkpoint you want to try. Note that you will need an A100 runtime for the 7b models."
      ]
    },
    {
      "cell_type": "code",
      "execution_count": 0,
      "metadata": {
        "id": "-uHzK733EXiq"
      },
      "outputs": [],
      "source": [
        "import os\n",
        "\n",
        "VARIANT = '2b-it' # @param ['2b', '2b-it', '7b', '7b-it'] {type:\"string\"}\n",
        "weights_dir = kagglehub.model_download(f'google/gemma/Flax/{VARIANT}')\n",
        "ckpt_path = os.path.join(weights_dir, variant)\n",
        "vocab_path = os.path.join(weights_dir, 'tokenizer.model')"
      ]
    },
    {
      "cell_type": "code",
      "execution_count": 0,
      "metadata": {
        "id": "udFgOLxJEXiq"
      },
      "outputs": [],
      "source": [
        "# @title Python imports\n",
        "import re\n",
        "from gemma import params as params_lib\n",
        "from gemma import sampler as sampler_lib\n",
        "from gemma import transformer as transformer_lib\n",
        "\n",
        "import datasets\n",
        "import sentencepiece as spm"
      ]
    },
    {
      "cell_type": "markdown",
      "metadata": {
        "id": "vNEpwGyREXiq"
      },
      "source": [
        "## Load GSM8K dataset"
      ]
    },
    {
      "cell_type": "code",
      "execution_count": 0,
      "metadata": {
        "cellView": "form",
        "id": "E47hYa8dEXiq"
      },
      "outputs": [],
      "source": [
        "gsm8k = datasets.load_dataset(\"gsm8k\", \"main\", cache_dir='/tmp')\n",
        "gsm8k_train, gsm8k_test = gsm8k['train'], gsm8k['test']"
      ]
    },
    {
      "cell_type": "code",
      "execution_count": 0,
      "metadata": {
        "cellView": "form",
        "id": "ReheKSODEXiq"
      },
      "outputs": [],
      "source": [
        "# @title Testing library\n",
        "\n",
        "def find_numbers(x: str) -\u003e list[str]:\n",
        "  \"\"\"Finds all numbers in a string.\"\"\"\n",
        "  # Search for number, possibly negative (hyphen), with thousand separators\n",
        "  # (comma), and with a decimal point (period inbetween digits).\n",
        "  numbers = re.compile(\n",
        "      r'-?[\\d,]*\\.?\\d+',\n",
        "      re.MULTILINE | re.DOTALL | re.IGNORECASE,\n",
        "  ).findall(x)\n",
        "  return numbers\n",
        "\n",
        "\n",
        "def find_number(x: str,\n",
        "                answer_delimiter: str = 'The answer is') -\u003e str:\n",
        "  \"\"\"Finds the most relevant number in a string.\"\"\"\n",
        "  # If model uses the answer delimiter, then select the first number following\n",
        "  # that format.\n",
        "  if answer_delimiter in x:\n",
        "    answer = x.split(answer_delimiter)[-1]\n",
        "    numbers = find_numbers(answer)\n",
        "    if numbers:\n",
        "      return numbers[0]\n",
        "\n",
        "  # In general, select the last number in the string.\n",
        "  numbers = find_numbers(x)\n",
        "  if numbers:\n",
        "    return numbers[-1]\n",
        "  return ''\n",
        "\n",
        "\n",
        "def maybe_remove_comma(x: str) -\u003e str:\n",
        "  # Example: 5,600 -\u003e 5600\n",
        "  return x.replace(',', '')"
      ]
    },
    {
      "cell_type": "code",
      "execution_count": 0,
      "metadata": {
        "cellView": "form",
        "id": "cXoCKMi9EXir"
      },
      "outputs": [],
      "source": [
        "# @title GSM8K Prompts\n",
        "\n",
        "PREAMBLE = \"\"\"As an expert problem solver solve step by step the following mathematical questions.\"\"\"\n",
        "\n",
        "# The default gsm8k prompt from the CoT paper\n",
        "# https://arxiv.org/pdf/2201.11903.pdf page 35.\n",
        "\n",
        "PROMPT = \"\"\"Q: There are 15 trees in the grove. Grove workers will plant trees in the grove today. After they are done, there will be 21 trees. How many trees did the grove workers plant today?\n",
        "A: We start with 15 trees. Later we have 21 trees. The difference must be the number of trees they planted. So, they must have planted 21 - 15 = 6 trees. The answer is 6.\n",
        "\n",
        "Q: If there are 3 cars in the parking lot and 2 more cars arrive, how many cars are in the parking lot?\n",
        "A: There are 3 cars in the parking lot already. 2 more arrive. Now there are 3 + 2 = 5 cars. The answer is 5.\n",
        "\n",
        "Q: Leah had 32 chocolates and her sister had 42. If they ate 35, how many pieces do they have left in total?\n",
        "A: Leah had 32 chocolates and Leah's sister had 42. That means there were originally 32 + 42 = 74 chocolates. 35 have been eaten. So in total they still have 74 - 35 = 39 chocolates. The answer is 39.\n",
        "\n",
        "Q: Jason had 20 lollipops. He gave Denny some lollipops. Now Jason has 12 lollipops. How many lollipops did Jason give to Denny?\n",
        "A: Jason had 20 lollipops. Since he only has 12 now, he must have given the rest to Denny. The number of lollipops he has given to Denny must have been 20 - 12 = 8 lollipops. The answer is 8.\n",
        "\n",
        "Q: Shawn has five toys. For Christmas, he got two toys each from his mom and dad. How many toys does he have now?\n",
        "A: He has 5 toys. He got 2 from mom, so after that he has 5 + 2 = 7 toys. Then he got 2 more from dad, so in total he has 7 + 2 = 9 toys. The answer is 9.\n",
        "\n",
        "Q: There were nine computers in the server room. Five more computers were installed each day, from monday to thursday. How many computers are now in the server room?\n",
        "A: There are 4 days from monday to thursday. 5 computers were added each day. That means in total 4 * 5 = 20 computers were added. There were 9 computers in the beginning, so now there are 9 + 20 = 29 computers. The answer is 29.\n",
        "\n",
        "Q: Michael had 58 golf balls. On tuesday, he lost 23 golf balls. On wednesday, he lost 2 more. How many golf balls did he have at the end of wednesday?\n",
        "A: Michael initially had 58 balls. He lost 23 on Tuesday, so after that he has 58 - 23 = 35 balls. On Wednesday he lost 2 more so now he has 35 - 2 = 33 balls. The answer is 33.\n",
        "\n",
        "Q: Olivia has $23. She bought five bagels for $3 each. How much money does she have left?\n",
        "A: She bought 5 bagels for $3 each. This means she spent 5 * $3 = $15 on the bagels. She had $23 in beginning, so now she has $23 - $15 = $8. The answer is 8.\"\"\"\n",
        "\n",
        "\n",
        "# Extension of the default 8-shot prompt, page 35 in\n",
        "# https://arxiv.org/pdf/2201.11903.pdf\n",
        "# The extension is intended to improve performance on\n",
        "# more complicated gsm8k examples.\n",
        "\n",
        "EXTRA_3_SHOTS = \"\"\"As an expert problem solver solve step by step the following mathematical questions.\n",
        "\n",
        "Q: Tina makes $18.00 an hour.  If she works more than 8 hours per shift, she is eligible for overtime, which is paid by your hourly wage + 1/2 your hourly wage.  If she works 10 hours every day for 5 days, how much money does she make?\n",
        "A: Here's how to calculate Tina's earnings:\n",
        "\n",
        "**Regular Time:**\n",
        "- Hours per shift: 8 hours\n",
        "- Wage per hour: $18.00\n",
        "- Regular pay per shift: 8 hours * $18.00/hour = $144.00\n",
        "\n",
        "**Overtime:**\n",
        "- Overtime hours per shift: 10 hours - 8 hours = 2 hours\n",
        "- Overtime pay per hour: $18.00 + ($18.00 / 2) = $27.00\n",
        "- Overtime pay per shift: 2 hours * $27.00/hour = $54.00\n",
        "\n",
        "**Total per day:**\n",
        "- Regular pay + overtime pay: $144.00/shift + $54.00/shift = $198.00/day\n",
        "\n",
        "**Total for 5 days:**\n",
        "- 5 days * $198.00/day = $990.00\n",
        "\n",
        "**Therefore, Tina will make $990.00 in 5 days.** The answer is 990.\n",
        "\n",
        "Q: Abigail is trying a new recipe for a cold drink. It uses 1/4 of a cup of iced tea and 1 and 1/4 of a cup of lemonade to make one drink. If she fills a pitcher with 18 total cups of this drink, how many cups of lemonade are in the pitcher?\n",
        "A: ## Ambiguity in the Problem Statement:\n",
        "\n",
        "There is one main ambiguity in the problem statement:\n",
        "\n",
        "**Total volume vs. Number of servings:** The statement \"18 total cups of this drink\" could be interpreted in two ways:\n",
        "  * **18 cups of the combined volume:** This would mean Abigail used a total of 18 cups of liquid, including both iced tea and lemonade.\n",
        "  * **18 individual servings:** This would mean Abigail made 18 individual drinks, each containing 1/4 cup of iced tea and 1 1/4 cup of lemonade.\n",
        "\n",
        "Let us assume the interpretation \"18 cups of the combined volume\".\n",
        "\n",
        "## Solution assuming 18 cups of combined volume:\n",
        "\n",
        "**Step 1: Find the proportion of lemonade in one drink:**\n",
        "\n",
        "* Lemonade: 1 1/4 cups\n",
        "* Iced tea: 1/4 cup\n",
        "* Total: 1 1/4 + 1/4 = 1 1/2 cups\n",
        "* Lemonade proportion: (1 1/4) / (1 1/2) = 5/6\n",
        "\n",
        "**Step 2: Calculate the amount of lemonade in the pitcher:**\n",
        "\n",
        "* Total volume: 18 cups\n",
        "* Lemonade proportion: 5/6\n",
        "* Volume of lemonade: 18 * (5/6) = 15 cups\n",
        "\n",
        "Therefore, there are 15 cups of lemonade in the pitcher. The answer is 15.\n",
        "\n",
        "Q: A deep-sea monster rises from the waters once every hundred years to feast on a ship and sate its hunger. Over three hundred years, it has consumed 847 people. Ships have been built larger over time, so each new ship has twice as many people as the last ship. How many people were on the ship the monster ate in the first hundred years?\n",
        "A: Let us solve it using algebra. Let x be the number of people on the ship the monster ate in the first hundred years.\n",
        "\n",
        "The number of people on the ship eaten in the second hundred years is 2x, and in the third hundred years is 4x.\n",
        "\n",
        "Therefore, the total number of people eaten over three hundred years is x + 2x + 4x = 847.\n",
        "\n",
        "Combining like terms, we get 7x = 847.\n",
        "\n",
        "Dividing both sides by 7, we find x = 121.\n",
        "\n",
        "Therefore, there were 121 people on the ship the monster ate in the first hundred years. The answer is 121.\"\"\""
      ]
    },
    {
      "cell_type": "markdown",
      "metadata": {
        "id": "9LoeozW4EXir"
      },
      "source": [
        "## Load and prepare your LLM's checkpoint for use with Flax.\n",
        "\n",
        "Start by loading the weights of your model."
      ]
    },
    {
      "cell_type": "code",
      "execution_count": 0,
      "metadata": {
        "cellView": "form",
        "id": "7s15QMbbEXir"
      },
      "outputs": [],
      "source": [
        "# Load parameters\n",
        "params = params_lib.load_and_format_params(ckpt_path)"
      ]
    },
    {
      "cell_type": "markdown",
      "metadata": {
        "id": "2tkY-sLuEXir"
      },
      "source": [
        "Then load the tokenizer."
      ]
    },
    {
      "cell_type": "code",
      "execution_count": 0,
      "metadata": {
        "cellView": "form",
        "id": "_n0KePI2EXir"
      },
      "outputs": [],
      "source": [
        "vocab = spm.SentencePieceProcessor()\n",
        "vocab.Load(vocab_path)"
      ]
    },
    {
      "cell_type": "markdown",
      "metadata": {
        "id": "1wvhxNb1EXir"
      },
      "source": [
        "Finally, build a sampler from the transformer configuration deduced from the checkpoint."
      ]
    },
    {
      "cell_type": "code",
      "execution_count": 0,
      "metadata": {
        "cellView": "form",
        "id": "51WOHSzVEXir"
      },
      "outputs": [],
      "source": [
        "transformer_config = transformer_lib.TransformerConfig.from_params(\n",
        "    params, cache_size=1024)\n",
        "transformer = transformer_lib.Transformer(transformer_config)\n",
        "\n",
        "# Create a sampler with the right param shapes for the GSM8K prompt below\n",
        "sampler = sampler_lib.Sampler(\n",
        "    transformer=transformer,\n",
        "    vocab=vocab,\n",
        "    params=params['transformer'],\n",
        ")"
      ]
    },
    {
      "cell_type": "markdown",
      "metadata": {
        "id": "5NhlBMaIEXir"
      },
      "source": [
        "## Main Evaluation loop\n",
        "\n",
        "You should expect a score of 19.86% with the 2B model."
      ]
    },
    {
      "cell_type": "code",
      "execution_count": 0,
      "metadata": {
        "cellView": "form",
        "id": "iHxQeQ4hEXir"
      },
      "outputs": [],
      "source": [
        "%%time\n",
        "all_correct = 0\n",
        "all_responses = {}\n",
        "short_responses = {}\n",
        "idx = 0\n",
        "correct = 0\n",
        "\n",
        "TEMPLATE = \"\"\"\n",
        "Q: {question}\n",
        "A:\"\"\"\n",
        "\n",
        "for task_id, problem in enumerate(gsm8k_test):\n",
        "\n",
        "  if task_id in all_responses: continue\n",
        "\n",
        "  # Print Task ID\n",
        "  print(f\"task_id {task_id}\")\n",
        "\n",
        "  # Formulate and print the full prompt\n",
        "  full_prompt = (PREAMBLE +'\\n\\n' + PROMPT + '\\n' +\n",
        "                 TEMPLATE.format(question=problem['question']))\n",
        "  short_prompt = PREAMBLE +'\\n' + TEMPLATE.format(question=problem['question'])\n",
        "\n",
        "  input_batch = [full_prompt]\n",
        "  response = sampler(input_strings=input_batch, total_generation_steps=1024)\n",
        "  print(response.text)\n",
        "\n",
        "  all_responses[task_id] = response.text[0].split('\\nQ:')[0]\n",
        "  short_responses[task_id] = maybe_remove_comma(find_number(all_responses[task_id]))\n",
        "  print(f\"Short answer: {short_responses[task_id]}\")\n",
        "  try:\n",
        "    correct += float(maybe_remove_comma(\n",
        "        find_number(problem['answer']))) == float(short_responses[task_id])\n",
        "  except:\n",
        "    correct += maybe_remove_comma(\n",
        "        find_number(problem['answer'])) == maybe_remove_comma(\n",
        "            find_number(short_responses[task_id]))\n",
        "  print('-'*40)\n",
        "  print(f\"Ground truth answer {problem['answer']}\")\n",
        "  print(f\"Short ground truth answer {find_number(problem['answer'])}\")\n",
        "  print(f\"Correct: {correct} out of {idx+1}\")\n",
        "  print(\"=\"*40)\n",
        "  idx += 1\n"
      ]
    }
  ],
  "metadata": {
    "colab": {
      "private_outputs": true
    }
  },
  "nbformat": 4,
  "nbformat_minor": 0
}
